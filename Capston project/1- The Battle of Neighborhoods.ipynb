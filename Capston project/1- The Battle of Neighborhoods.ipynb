{
 "cells": [
  {
   "cell_type": "markdown",
   "metadata": {},
   "source": [
    "# Capston Project - The Battle of Neighborhoods \n",
    "<br>\n",
    "Business Proposal - Introduction"
   ]
  },
  {
   "cell_type": "markdown",
   "metadata": {},
   "source": [
    "**Introduction:**<br>\n",
    "\n",
    "The purpose of this Project is to help people in exploring better facilities around their neighborhood. \n",
    "It will help people making smart and efficient decision on selecting great neighborhood out of numbers of \n",
    "other neighborhoods in North York, Toranto.\n",
    "\n",
    "Lots of people are migrating to various states of Canada and needed lots of research for good neiborhood \n",
    "as well as better facilities around. \n",
    "This project is for those people who are looking for better neighborhoods to ease of accessing to Cafe, \n",
    "School, Super market, medical shops, grocery shops, mall, theatre, hospital, like minded people, etc.\n",
    "\n",
    "This Project also aims to create an analysis of features for a people migrating to Canada to search a best neighborhood \n",
    "as a comparative analysis between neighborhoods. The features include crime rates in neighborhood, better schools in neighborhood.\n",
    "\n",
    "It will help people to get awareness of the area and neighborhood before moving to a new city, state, country or place \n",
    "for their work or to start a new fresh life."
   ]
  },
  {
   "cell_type": "markdown",
   "metadata": {},
   "source": [
    "**Problems, to get Solved:**\n",
    "    \n",
    "The major purpose of this project, is to make it immigrant friendly.\n",
    "To suggest a newbee, a better neighborhood to start positive. \n",
    "\n",
    "Sorted list of crimes in neighborhood.\n",
    "Sorted list of schools in terms of location, fees, rating and reviews\n",
    "\n",
    "*Foursquare API:\n",
    "This project would use Four-square API as its prime data gathering source as it has a database of millions of places, \n",
    "especially their places API which provides the ability to perform location search, \n",
    "location sharing and details about a business.\n",
    "\n",
    "*Work Flow:\n",
    "Using credentials of Foursquare API features of near-by places of the neighborhoods would be mined. \n",
    "Due to http request limitations the number of places per neighborhood parameter would reasonably be set to 100 \n",
    "and the radius parameter would be set to 500.\n",
    "\n",
    "*Clustering Approach:\n",
    "To compare the similarities of two cities, we decided to explore neighborhoods, segment them, \n",
    "and group them into clusters to find similar neighborhoods in a big city. \n",
    "To be able to do that, we need to cluster data with the help of \n",
    "k-means clustering algorithm\n",
    "\n",
    "*Libraries Which are Used to Develope the Project:\n",
    "-Pandas: For creating and manipulating dataframes.\n",
    "\n",
    "-Folium: Python visualization library would be used to visualize the neighborhoods cluster distribution of using interactive leaflet map.\n",
    "\n",
    "-Scikit Learn: For importing k-means clustering.\n",
    "\n",
    "-XML: To separate data from presentation and XML stores data in plain text format.\n",
    "\n",
    "-Geocoder: To retrieve Location Data.\n",
    "\n",
    "-Beautiful Soup and Requests: To scrap and library to handle http requests.\n",
    "\n",
    "-Matplotlib: Python Plotting Module.\n",
    "\n"
   ]
  },
  {
   "cell_type": "code",
   "execution_count": null,
   "metadata": {},
   "outputs": [],
   "source": []
  }
 ],
 "metadata": {
  "kernelspec": {
   "display_name": "Python 3",
   "language": "python",
   "name": "python3"
  },
  "language_info": {
   "codemirror_mode": {
    "name": "ipython",
    "version": 3
   },
   "file_extension": ".py",
   "mimetype": "text/x-python",
   "name": "python",
   "nbconvert_exporter": "python",
   "pygments_lexer": "ipython3",
   "version": "3.7.6"
  }
 },
 "nbformat": 4,
 "nbformat_minor": 4
}
