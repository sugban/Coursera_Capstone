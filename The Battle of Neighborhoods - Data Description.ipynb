{
 "cells": [
  {
   "cell_type": "markdown",
   "metadata": {},
   "source": [
    "# Capstone Project - The Battle of Neighborhoods - Data Description"
   ]
  },
  {
   "cell_type": "markdown",
   "metadata": {},
   "source": [
    "Data Link 1: https://en.wikipedia.org/wiki/List_of_postal_codes_of_Canada:_M\n",
    "Data Link 2: https://open.toronto.ca/dataset/neighbourhood-crime-rates/\n",
    "\n",
    "**Data Description:\n",
    "\n",
    "I'll use North York dataset, which we have already scrapped from wikipedia on Week 3. Dataset consisting of postal codes, borough, neighborhoods, latitude and longitude in csv file name 'Canada.csv'\n",
    "\n",
    "Other than that I'll also look for Canada neighborhood crime rates in data to find the better neighborhood for immigrants.\n"
   ]
  },
  {
   "cell_type": "markdown",
   "metadata": {},
   "source": [
    "#Foursquare API Data:\n",
    "\n",
    "We will use data for different venues in different neighborhoods of that specific borough.<br>\n",
    "For achieving that information, we'll use \"Foursquare\" locational provider. <br>\n",
    "Foursquare is a location data provider with information of venues and events with info like ; location and even photos in an area of interest. <br>\n",
    "Basically, it is a technology company that builts a massive dataset of accurate location data.\n",
    "\n",
    "After finding the list of neighborhoods, we'll then connect to the Foursquare API to gather information about venues inside each and every neighborhood. For each neighborhood, we have chosen the radius to be 100 meter.\n",
    "\n",
    "The data retrieved from Foursquare contained information of venues within a specified distance of the longitude and latitude of the postcodes. The information obtained per venue as follows:\n",
    "\n",
    "1. Neighborhood\n",
    "2. Neighborhood Latitude\n",
    "3. Neighborhood Longitude\n",
    "4. Venue\n",
    "5. Name of the venue e.g. the name of a store or restaurant\n",
    "6. Venue Latitude\n",
    "7. Venue Longitude\n",
    "8. Venue Category\n",
    "\n",
    "#K-Means Cluster Algorithm:\n",
    "\n",
    "The k-means clustering method is an unsupervised machine learning technique used to identify clusters of data objects in a dataset. There are many different types of clustering methods, but k-means is one of the oldest and most approachable.\n",
    "Clustering is a set of techniques used to partition data into groups, or clusters. By this we'll segment neiborhood by most common or safe areas, so that we can analyse the better place.\n",
    "\n"
   ]
  },
  {
   "cell_type": "code",
   "execution_count": null,
   "metadata": {},
   "outputs": [],
   "source": []
  }
 ],
 "metadata": {
  "kernelspec": {
   "display_name": "Python 3",
   "language": "python",
   "name": "python3"
  },
  "language_info": {
   "codemirror_mode": {
    "name": "ipython",
    "version": 3
   },
   "file_extension": ".py",
   "mimetype": "text/x-python",
   "name": "python",
   "nbconvert_exporter": "python",
   "pygments_lexer": "ipython3",
   "version": "3.7.6"
  }
 },
 "nbformat": 4,
 "nbformat_minor": 4
}
