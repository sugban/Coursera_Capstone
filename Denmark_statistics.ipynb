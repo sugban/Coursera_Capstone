{
  "nbformat": 4,
  "nbformat_minor": 0,
  "metadata": {
    "colab": {
      "name": "Denmark statistics",
      "provenance": [],
      "collapsed_sections": [],
      "authorship_tag": "ABX9TyNDfbZBsnTvYQfxOSw/Gbg0",
      "include_colab_link": true
    },
    "kernelspec": {
      "name": "python3",
      "display_name": "Python 3"
    },
    "language_info": {
      "name": "python"
    }
  },
  "cells": [
    {
      "cell_type": "markdown",
      "metadata": {
        "id": "view-in-github",
        "colab_type": "text"
      },
      "source": [
        "<a href=\"https://colab.research.google.com/github/sugban/Coursera_Capstone/blob/main/Denmark_statistics.ipynb\" target=\"_parent\"><img src=\"https://colab.research.google.com/assets/colab-badge.svg\" alt=\"Open In Colab\"/></a>"
      ]
    },
    {
      "cell_type": "code",
      "metadata": {
        "colab": {
          "base_uri": "https://localhost:8080/"
        },
        "id": "2T29asXidnVX",
        "outputId": "8c396651-ae75-45a4-89c8-f94213d2fdc3"
      },
      "source": [
        "!pip install html-table-parser-python3"
      ],
      "execution_count": 9,
      "outputs": [
        {
          "output_type": "stream",
          "text": [
            "Collecting html-table-parser-python3\n",
            "  Downloading https://files.pythonhosted.org/packages/43/6a/dc81d44eb8f8b089db497989cd08bccd7ab3d1ee33dbd10efcca855a35f6/html_table_parser_python3-0.2.0-py3-none-any.whl\n",
            "Installing collected packages: html-table-parser-python3\n",
            "Successfully installed html-table-parser-python3-0.2.0\n"
          ],
          "name": "stdout"
        }
      ]
    },
    {
      "cell_type": "code",
      "metadata": {
        "id": "wCyQIrBOg94l"
      },
      "source": [
        "# Library for opening url and creating requests\n",
        "import urllib.request\n",
        " \n",
        "# pretty-print python data structures\n",
        "from pprint import pprint\n",
        " \n",
        "# for parsing all the tables present on the website\n",
        "from html_table_parser.parser import HTMLTableParser\n",
        " \n",
        "# for converting the parsed data in a pandas dataframe\n",
        "import pandas as pd \n",
        " \n",
        "import seaborn as sns\n",
        " \n",
        "# importing matplotlib module for visualization\n",
        "import matplotlib.pyplot as plt"
      ],
      "execution_count": 10,
      "outputs": []
    },
    {
      "cell_type": "code",
      "metadata": {
        "id": "J6lLVnXdhGty"
      },
      "source": [
        "# Opens a website and read its binary contents (HTTP Response Body)\n",
        "def url_get_contents(url):\n",
        " \n",
        "    # making request to the website\n",
        "    req = urllib.request.Request(url=url)\n",
        "    f = urllib.request.urlopen(req)\n",
        " \n",
        "    # reading contents of the website\n",
        "    return f.read()"
      ],
      "execution_count": null,
      "outputs": []
    },
    {
      "cell_type": "code",
      "metadata": {
        "id": "kOd5viTJhMT7"
      },
      "source": [
        "# defining the html contents of a URL.\n",
        "xhtml = url_get_contents('https://www.statista.com/statistics/570358/total-population-in-denmark-by-gender/').decode('utf-8')"
      ],
      "execution_count": null,
      "outputs": []
    },
    {
      "cell_type": "code",
      "metadata": {
        "colab": {
          "base_uri": "https://localhost:8080/",
          "height": 520
        },
        "id": "-20-VeazeUQH",
        "outputId": "30af35a5-e986-4299-f8fa-50d9febdf54d"
      },
      "source": [
        "# Defining the HTMLTableParser object\n",
        "p = HTMLTableParser()\n",
        " \n",
        "# feeding the html contents in the HTMLTableParser object\n",
        "p.feed(xhtml)\n",
        " \n",
        "# Now finally obtaining the data of the table required\n",
        "table = p.tables[0]\n",
        "#pprint(table)\n",
        "\n",
        "# converting the parsed data to datframe\n",
        "print(\"\\n\\nPANDAS DATAFRAME\\n\")\n",
        "df_gender = pd.DataFrame(table)\n",
        "df_gender.set_index(0)"
      ],
      "execution_count": null,
      "outputs": [
        {
          "output_type": "stream",
          "text": [
            "\n",
            "\n",
            "PANDAS DATAFRAME\n",
            "\n"
          ],
          "name": "stdout"
        },
        {
          "output_type": "execute_result",
          "data": {
            "text/html": [
              "<div>\n",
              "<style scoped>\n",
              "    .dataframe tbody tr th:only-of-type {\n",
              "        vertical-align: middle;\n",
              "    }\n",
              "\n",
              "    .dataframe tbody tr th {\n",
              "        vertical-align: top;\n",
              "    }\n",
              "\n",
              "    .dataframe thead th {\n",
              "        text-align: right;\n",
              "    }\n",
              "</style>\n",
              "<table border=\"1\" class=\"dataframe\">\n",
              "  <thead>\n",
              "    <tr style=\"text-align: right;\">\n",
              "      <th></th>\n",
              "      <th>1</th>\n",
              "      <th>2</th>\n",
              "    </tr>\n",
              "    <tr>\n",
              "      <th>0</th>\n",
              "      <th></th>\n",
              "      <th></th>\n",
              "    </tr>\n",
              "  </thead>\n",
              "  <tbody>\n",
              "    <tr>\n",
              "      <th>Characteristic</th>\n",
              "      <td>Male</td>\n",
              "      <td>Female</td>\n",
              "    </tr>\n",
              "    <tr>\n",
              "      <th>2021</th>\n",
              "      <td>2.91</td>\n",
              "      <td>2.94</td>\n",
              "    </tr>\n",
              "    <tr>\n",
              "      <th>2020</th>\n",
              "      <td>2.9</td>\n",
              "      <td>2.93</td>\n",
              "    </tr>\n",
              "    <tr>\n",
              "      <th>2019</th>\n",
              "      <td>2.89</td>\n",
              "      <td>2.92</td>\n",
              "    </tr>\n",
              "    <tr>\n",
              "      <th>2018</th>\n",
              "      <td>2.88</td>\n",
              "      <td>2.91</td>\n",
              "    </tr>\n",
              "    <tr>\n",
              "      <th>2017</th>\n",
              "      <td>2.86</td>\n",
              "      <td>2.89</td>\n",
              "    </tr>\n",
              "    <tr>\n",
              "      <th>2016</th>\n",
              "      <td>2.84</td>\n",
              "      <td>2.87</td>\n",
              "    </tr>\n",
              "    <tr>\n",
              "      <th>2015</th>\n",
              "      <td>2.81</td>\n",
              "      <td>2.85</td>\n",
              "    </tr>\n",
              "    <tr>\n",
              "      <th>2014</th>\n",
              "      <td>2.79</td>\n",
              "      <td>2.83</td>\n",
              "    </tr>\n",
              "    <tr>\n",
              "      <th>2013</th>\n",
              "      <td>2.78</td>\n",
              "      <td>2.82</td>\n",
              "    </tr>\n",
              "    <tr>\n",
              "      <th>2012</th>\n",
              "      <td>2.77</td>\n",
              "      <td>2.81</td>\n",
              "    </tr>\n",
              "    <tr>\n",
              "      <th>2011</th>\n",
              "      <td>2.76</td>\n",
              "      <td>2.8</td>\n",
              "    </tr>\n",
              "  </tbody>\n",
              "</table>\n",
              "</div>"
            ],
            "text/plain": [
              "                   1       2\n",
              "0                           \n",
              "Characteristic  Male  Female\n",
              "2021            2.91    2.94\n",
              "2020             2.9    2.93\n",
              "2019            2.89    2.92\n",
              "2018            2.88    2.91\n",
              "2017            2.86    2.89\n",
              "2016            2.84    2.87\n",
              "2015            2.81    2.85\n",
              "2014            2.79    2.83\n",
              "2013            2.78    2.82\n",
              "2012            2.77    2.81\n",
              "2011            2.76     2.8"
            ]
          },
          "metadata": {
            "tags": []
          },
          "execution_count": 50
        }
      ]
    },
    {
      "cell_type": "code",
      "metadata": {
        "id": "FNhv6KJieHT1"
      },
      "source": [
        "df_gender.set_index(0).to_excel('gender base population in denmark.xlsx')"
      ],
      "execution_count": null,
      "outputs": []
    },
    {
      "cell_type": "code",
      "metadata": {
        "colab": {
          "base_uri": "https://localhost:8080/",
          "height": 390
        },
        "id": "sDZMQJWZmBGh",
        "outputId": "58a23849-4c24-4288-f69e-1d39cbdd9aa1"
      },
      "source": [
        "df = pd.read_excel('gender base population in denmark.xlsx',header = 1)\n",
        "df['Total_Population'] = df['Male'] + df['Female']\n",
        "df.rename(columns = {'Characteristic':'Years'}, inplace = True)\n",
        "df"
      ],
      "execution_count": null,
      "outputs": [
        {
          "output_type": "execute_result",
          "data": {
            "text/html": [
              "<div>\n",
              "<style scoped>\n",
              "    .dataframe tbody tr th:only-of-type {\n",
              "        vertical-align: middle;\n",
              "    }\n",
              "\n",
              "    .dataframe tbody tr th {\n",
              "        vertical-align: top;\n",
              "    }\n",
              "\n",
              "    .dataframe thead th {\n",
              "        text-align: right;\n",
              "    }\n",
              "</style>\n",
              "<table border=\"1\" class=\"dataframe\">\n",
              "  <thead>\n",
              "    <tr style=\"text-align: right;\">\n",
              "      <th></th>\n",
              "      <th>Years</th>\n",
              "      <th>Male</th>\n",
              "      <th>Female</th>\n",
              "      <th>Total_Population</th>\n",
              "    </tr>\n",
              "  </thead>\n",
              "  <tbody>\n",
              "    <tr>\n",
              "      <th>0</th>\n",
              "      <td>2021</td>\n",
              "      <td>2.91</td>\n",
              "      <td>2.94</td>\n",
              "      <td>5.85</td>\n",
              "    </tr>\n",
              "    <tr>\n",
              "      <th>1</th>\n",
              "      <td>2020</td>\n",
              "      <td>2.90</td>\n",
              "      <td>2.93</td>\n",
              "      <td>5.83</td>\n",
              "    </tr>\n",
              "    <tr>\n",
              "      <th>2</th>\n",
              "      <td>2019</td>\n",
              "      <td>2.89</td>\n",
              "      <td>2.92</td>\n",
              "      <td>5.81</td>\n",
              "    </tr>\n",
              "    <tr>\n",
              "      <th>3</th>\n",
              "      <td>2018</td>\n",
              "      <td>2.88</td>\n",
              "      <td>2.91</td>\n",
              "      <td>5.79</td>\n",
              "    </tr>\n",
              "    <tr>\n",
              "      <th>4</th>\n",
              "      <td>2017</td>\n",
              "      <td>2.86</td>\n",
              "      <td>2.89</td>\n",
              "      <td>5.75</td>\n",
              "    </tr>\n",
              "    <tr>\n",
              "      <th>5</th>\n",
              "      <td>2016</td>\n",
              "      <td>2.84</td>\n",
              "      <td>2.87</td>\n",
              "      <td>5.71</td>\n",
              "    </tr>\n",
              "    <tr>\n",
              "      <th>6</th>\n",
              "      <td>2015</td>\n",
              "      <td>2.81</td>\n",
              "      <td>2.85</td>\n",
              "      <td>5.66</td>\n",
              "    </tr>\n",
              "    <tr>\n",
              "      <th>7</th>\n",
              "      <td>2014</td>\n",
              "      <td>2.79</td>\n",
              "      <td>2.83</td>\n",
              "      <td>5.62</td>\n",
              "    </tr>\n",
              "    <tr>\n",
              "      <th>8</th>\n",
              "      <td>2013</td>\n",
              "      <td>2.78</td>\n",
              "      <td>2.82</td>\n",
              "      <td>5.60</td>\n",
              "    </tr>\n",
              "    <tr>\n",
              "      <th>9</th>\n",
              "      <td>2012</td>\n",
              "      <td>2.77</td>\n",
              "      <td>2.81</td>\n",
              "      <td>5.58</td>\n",
              "    </tr>\n",
              "    <tr>\n",
              "      <th>10</th>\n",
              "      <td>2011</td>\n",
              "      <td>2.76</td>\n",
              "      <td>2.80</td>\n",
              "      <td>5.56</td>\n",
              "    </tr>\n",
              "  </tbody>\n",
              "</table>\n",
              "</div>"
            ],
            "text/plain": [
              "    Years  Male  Female  Total_Population\n",
              "0    2021  2.91    2.94              5.85\n",
              "1    2020  2.90    2.93              5.83\n",
              "2    2019  2.89    2.92              5.81\n",
              "3    2018  2.88    2.91              5.79\n",
              "4    2017  2.86    2.89              5.75\n",
              "5    2016  2.84    2.87              5.71\n",
              "6    2015  2.81    2.85              5.66\n",
              "7    2014  2.79    2.83              5.62\n",
              "8    2013  2.78    2.82              5.60\n",
              "9    2012  2.77    2.81              5.58\n",
              "10   2011  2.76    2.80              5.56"
            ]
          },
          "metadata": {
            "tags": []
          },
          "execution_count": 7
        }
      ]
    },
    {
      "cell_type": "code",
      "metadata": {
        "id": "7o_4iZcPpfv5"
      },
      "source": [
        "xhtml1 = url_get_contents('https://www.statista.com/statistics/570654/total-population-in-denmark-by-age/').decode('utf-8')"
      ],
      "execution_count": null,
      "outputs": []
    },
    {
      "cell_type": "code",
      "metadata": {
        "colab": {
          "base_uri": "https://localhost:8080/"
        },
        "id": "SCnK0-YSp37B",
        "outputId": "fd126f1f-2c1b-45f5-b5ec-df818334a4fb"
      },
      "source": [
        "# Defining the HTMLTableParser object\n",
        "p = HTMLTableParser()\n",
        " \n",
        "# feeding the html contents in the HTMLTableParser object\n",
        "p.feed(xhtml1)\n",
        " \n",
        "# Now finally obtaining the data of the table required\n",
        "table1 = p.tables[0]\n",
        "#pprint(table1)\n",
        "\n",
        "# converting the parsed data to datframe\n",
        "print(\"\\n\\nPANDAS DATAFRAME\\n\")\n",
        "df_age = pd.DataFrame(table1)\n",
        "#df_age"
      ],
      "execution_count": null,
      "outputs": [
        {
          "output_type": "stream",
          "text": [
            "\n",
            "\n",
            "PANDAS DATAFRAME\n",
            "\n"
          ],
          "name": "stdout"
        }
      ]
    },
    {
      "cell_type": "code",
      "metadata": {
        "id": "3-GxPd_1oHtd"
      },
      "source": [
        "df_age.set_index(0).to_excel('Population by age-range.xlsx')"
      ],
      "execution_count": null,
      "outputs": []
    },
    {
      "cell_type": "code",
      "metadata": {
        "colab": {
          "base_uri": "https://localhost:8080/",
          "height": 390
        },
        "id": "194NGRdXqudv",
        "outputId": "014b7228-e570-4150-ae90-76cc773c2eee"
      },
      "source": [
        "df_age = pd.read_excel('Population by age-range.xlsx',header = 1)\n",
        "df_age.rename(columns = {'Characteristic':'Years'}, inplace = True)\n",
        "df_age"
      ],
      "execution_count": null,
      "outputs": [
        {
          "output_type": "execute_result",
          "data": {
            "text/html": [
              "<div>\n",
              "<style scoped>\n",
              "    .dataframe tbody tr th:only-of-type {\n",
              "        vertical-align: middle;\n",
              "    }\n",
              "\n",
              "    .dataframe tbody tr th {\n",
              "        vertical-align: top;\n",
              "    }\n",
              "\n",
              "    .dataframe thead th {\n",
              "        text-align: right;\n",
              "    }\n",
              "</style>\n",
              "<table border=\"1\" class=\"dataframe\">\n",
              "  <thead>\n",
              "    <tr style=\"text-align: right;\">\n",
              "      <th></th>\n",
              "      <th>Years</th>\n",
              "      <th>0-19 years</th>\n",
              "      <th>20-39 years</th>\n",
              "      <th>40-59 years</th>\n",
              "      <th>60-79 years</th>\n",
              "      <th>80 years and older</th>\n",
              "    </tr>\n",
              "  </thead>\n",
              "  <tbody>\n",
              "    <tr>\n",
              "      <th>0</th>\n",
              "      <td>2021</td>\n",
              "      <td>1.29</td>\n",
              "      <td>1.48</td>\n",
              "      <td>1.55</td>\n",
              "      <td>1.24</td>\n",
              "      <td>0.28</td>\n",
              "    </tr>\n",
              "    <tr>\n",
              "      <th>1</th>\n",
              "      <td>2020</td>\n",
              "      <td>1.30</td>\n",
              "      <td>1.47</td>\n",
              "      <td>1.56</td>\n",
              "      <td>1.23</td>\n",
              "      <td>0.27</td>\n",
              "    </tr>\n",
              "    <tr>\n",
              "      <th>2</th>\n",
              "      <td>2019</td>\n",
              "      <td>1.30</td>\n",
              "      <td>1.47</td>\n",
              "      <td>1.56</td>\n",
              "      <td>1.21</td>\n",
              "      <td>0.26</td>\n",
              "    </tr>\n",
              "    <tr>\n",
              "      <th>3</th>\n",
              "      <td>2018</td>\n",
              "      <td>1.31</td>\n",
              "      <td>1.46</td>\n",
              "      <td>1.56</td>\n",
              "      <td>1.20</td>\n",
              "      <td>0.26</td>\n",
              "    </tr>\n",
              "    <tr>\n",
              "      <th>4</th>\n",
              "      <td>2017</td>\n",
              "      <td>1.31</td>\n",
              "      <td>1.44</td>\n",
              "      <td>1.56</td>\n",
              "      <td>1.19</td>\n",
              "      <td>0.25</td>\n",
              "    </tr>\n",
              "    <tr>\n",
              "      <th>5</th>\n",
              "      <td>2016</td>\n",
              "      <td>1.31</td>\n",
              "      <td>1.42</td>\n",
              "      <td>1.56</td>\n",
              "      <td>1.17</td>\n",
              "      <td>0.24</td>\n",
              "    </tr>\n",
              "    <tr>\n",
              "      <th>6</th>\n",
              "      <td>2015</td>\n",
              "      <td>1.32</td>\n",
              "      <td>1.40</td>\n",
              "      <td>1.55</td>\n",
              "      <td>1.15</td>\n",
              "      <td>0.24</td>\n",
              "    </tr>\n",
              "    <tr>\n",
              "      <th>7</th>\n",
              "      <td>2014</td>\n",
              "      <td>1.33</td>\n",
              "      <td>1.39</td>\n",
              "      <td>1.55</td>\n",
              "      <td>1.13</td>\n",
              "      <td>0.23</td>\n",
              "    </tr>\n",
              "    <tr>\n",
              "      <th>8</th>\n",
              "      <td>2013</td>\n",
              "      <td>1.34</td>\n",
              "      <td>1.38</td>\n",
              "      <td>1.54</td>\n",
              "      <td>1.10</td>\n",
              "      <td>0.23</td>\n",
              "    </tr>\n",
              "    <tr>\n",
              "      <th>9</th>\n",
              "      <td>2012</td>\n",
              "      <td>1.34</td>\n",
              "      <td>1.38</td>\n",
              "      <td>1.54</td>\n",
              "      <td>1.09</td>\n",
              "      <td>0.23</td>\n",
              "    </tr>\n",
              "    <tr>\n",
              "      <th>10</th>\n",
              "      <td>2011</td>\n",
              "      <td>1.35</td>\n",
              "      <td>1.38</td>\n",
              "      <td>1.53</td>\n",
              "      <td>1.07</td>\n",
              "      <td>0.23</td>\n",
              "    </tr>\n",
              "  </tbody>\n",
              "</table>\n",
              "</div>"
            ],
            "text/plain": [
              "    Years  0-19 years  ...  60-79 years  80 years and older\n",
              "0    2021        1.29  ...         1.24                0.28\n",
              "1    2020        1.30  ...         1.23                0.27\n",
              "2    2019        1.30  ...         1.21                0.26\n",
              "3    2018        1.31  ...         1.20                0.26\n",
              "4    2017        1.31  ...         1.19                0.25\n",
              "5    2016        1.31  ...         1.17                0.24\n",
              "6    2015        1.32  ...         1.15                0.24\n",
              "7    2014        1.33  ...         1.13                0.23\n",
              "8    2013        1.34  ...         1.10                0.23\n",
              "9    2012        1.34  ...         1.09                0.23\n",
              "10   2011        1.35  ...         1.07                0.23\n",
              "\n",
              "[11 rows x 6 columns]"
            ]
          },
          "metadata": {
            "tags": []
          },
          "execution_count": 35
        }
      ]
    },
    {
      "cell_type": "code",
      "metadata": {
        "colab": {
          "base_uri": "https://localhost:8080/",
          "height": 390
        },
        "id": "XTs_fkOmq3HV",
        "outputId": "d504e46c-4e8e-4267-b88f-7d0051cf81ff"
      },
      "source": [
        "new_df = df.merge(df_age, on = 'Years', how = 'inner')\n",
        "new_df\n"
      ],
      "execution_count": null,
      "outputs": [
        {
          "output_type": "execute_result",
          "data": {
            "text/html": [
              "<div>\n",
              "<style scoped>\n",
              "    .dataframe tbody tr th:only-of-type {\n",
              "        vertical-align: middle;\n",
              "    }\n",
              "\n",
              "    .dataframe tbody tr th {\n",
              "        vertical-align: top;\n",
              "    }\n",
              "\n",
              "    .dataframe thead th {\n",
              "        text-align: right;\n",
              "    }\n",
              "</style>\n",
              "<table border=\"1\" class=\"dataframe\">\n",
              "  <thead>\n",
              "    <tr style=\"text-align: right;\">\n",
              "      <th></th>\n",
              "      <th>Years</th>\n",
              "      <th>Male</th>\n",
              "      <th>Female</th>\n",
              "      <th>Total_Population</th>\n",
              "      <th>0-19 years</th>\n",
              "      <th>20-39 years</th>\n",
              "      <th>40-59 years</th>\n",
              "      <th>60-79 years</th>\n",
              "      <th>80 years and older</th>\n",
              "    </tr>\n",
              "  </thead>\n",
              "  <tbody>\n",
              "    <tr>\n",
              "      <th>0</th>\n",
              "      <td>2021</td>\n",
              "      <td>2.91</td>\n",
              "      <td>2.94</td>\n",
              "      <td>5.85</td>\n",
              "      <td>1.29</td>\n",
              "      <td>1.48</td>\n",
              "      <td>1.55</td>\n",
              "      <td>1.24</td>\n",
              "      <td>0.28</td>\n",
              "    </tr>\n",
              "    <tr>\n",
              "      <th>1</th>\n",
              "      <td>2020</td>\n",
              "      <td>2.90</td>\n",
              "      <td>2.93</td>\n",
              "      <td>5.83</td>\n",
              "      <td>1.30</td>\n",
              "      <td>1.47</td>\n",
              "      <td>1.56</td>\n",
              "      <td>1.23</td>\n",
              "      <td>0.27</td>\n",
              "    </tr>\n",
              "    <tr>\n",
              "      <th>2</th>\n",
              "      <td>2019</td>\n",
              "      <td>2.89</td>\n",
              "      <td>2.92</td>\n",
              "      <td>5.81</td>\n",
              "      <td>1.30</td>\n",
              "      <td>1.47</td>\n",
              "      <td>1.56</td>\n",
              "      <td>1.21</td>\n",
              "      <td>0.26</td>\n",
              "    </tr>\n",
              "    <tr>\n",
              "      <th>3</th>\n",
              "      <td>2018</td>\n",
              "      <td>2.88</td>\n",
              "      <td>2.91</td>\n",
              "      <td>5.79</td>\n",
              "      <td>1.31</td>\n",
              "      <td>1.46</td>\n",
              "      <td>1.56</td>\n",
              "      <td>1.20</td>\n",
              "      <td>0.26</td>\n",
              "    </tr>\n",
              "    <tr>\n",
              "      <th>4</th>\n",
              "      <td>2017</td>\n",
              "      <td>2.86</td>\n",
              "      <td>2.89</td>\n",
              "      <td>5.75</td>\n",
              "      <td>1.31</td>\n",
              "      <td>1.44</td>\n",
              "      <td>1.56</td>\n",
              "      <td>1.19</td>\n",
              "      <td>0.25</td>\n",
              "    </tr>\n",
              "    <tr>\n",
              "      <th>5</th>\n",
              "      <td>2016</td>\n",
              "      <td>2.84</td>\n",
              "      <td>2.87</td>\n",
              "      <td>5.71</td>\n",
              "      <td>1.31</td>\n",
              "      <td>1.42</td>\n",
              "      <td>1.56</td>\n",
              "      <td>1.17</td>\n",
              "      <td>0.24</td>\n",
              "    </tr>\n",
              "    <tr>\n",
              "      <th>6</th>\n",
              "      <td>2015</td>\n",
              "      <td>2.81</td>\n",
              "      <td>2.85</td>\n",
              "      <td>5.66</td>\n",
              "      <td>1.32</td>\n",
              "      <td>1.40</td>\n",
              "      <td>1.55</td>\n",
              "      <td>1.15</td>\n",
              "      <td>0.24</td>\n",
              "    </tr>\n",
              "    <tr>\n",
              "      <th>7</th>\n",
              "      <td>2014</td>\n",
              "      <td>2.79</td>\n",
              "      <td>2.83</td>\n",
              "      <td>5.62</td>\n",
              "      <td>1.33</td>\n",
              "      <td>1.39</td>\n",
              "      <td>1.55</td>\n",
              "      <td>1.13</td>\n",
              "      <td>0.23</td>\n",
              "    </tr>\n",
              "    <tr>\n",
              "      <th>8</th>\n",
              "      <td>2013</td>\n",
              "      <td>2.78</td>\n",
              "      <td>2.82</td>\n",
              "      <td>5.60</td>\n",
              "      <td>1.34</td>\n",
              "      <td>1.38</td>\n",
              "      <td>1.54</td>\n",
              "      <td>1.10</td>\n",
              "      <td>0.23</td>\n",
              "    </tr>\n",
              "    <tr>\n",
              "      <th>9</th>\n",
              "      <td>2012</td>\n",
              "      <td>2.77</td>\n",
              "      <td>2.81</td>\n",
              "      <td>5.58</td>\n",
              "      <td>1.34</td>\n",
              "      <td>1.38</td>\n",
              "      <td>1.54</td>\n",
              "      <td>1.09</td>\n",
              "      <td>0.23</td>\n",
              "    </tr>\n",
              "    <tr>\n",
              "      <th>10</th>\n",
              "      <td>2011</td>\n",
              "      <td>2.76</td>\n",
              "      <td>2.80</td>\n",
              "      <td>5.56</td>\n",
              "      <td>1.35</td>\n",
              "      <td>1.38</td>\n",
              "      <td>1.53</td>\n",
              "      <td>1.07</td>\n",
              "      <td>0.23</td>\n",
              "    </tr>\n",
              "  </tbody>\n",
              "</table>\n",
              "</div>"
            ],
            "text/plain": [
              "    Years  Male  Female  ...  40-59 years  60-79 years  80 years and older\n",
              "0    2021  2.91    2.94  ...         1.55         1.24                0.28\n",
              "1    2020  2.90    2.93  ...         1.56         1.23                0.27\n",
              "2    2019  2.89    2.92  ...         1.56         1.21                0.26\n",
              "3    2018  2.88    2.91  ...         1.56         1.20                0.26\n",
              "4    2017  2.86    2.89  ...         1.56         1.19                0.25\n",
              "5    2016  2.84    2.87  ...         1.56         1.17                0.24\n",
              "6    2015  2.81    2.85  ...         1.55         1.15                0.24\n",
              "7    2014  2.79    2.83  ...         1.55         1.13                0.23\n",
              "8    2013  2.78    2.82  ...         1.54         1.10                0.23\n",
              "9    2012  2.77    2.81  ...         1.54         1.09                0.23\n",
              "10   2011  2.76    2.80  ...         1.53         1.07                0.23\n",
              "\n",
              "[11 rows x 9 columns]"
            ]
          },
          "metadata": {
            "tags": []
          },
          "execution_count": 36
        }
      ]
    },
    {
      "cell_type": "code",
      "metadata": {
        "id": "A6AGjsvXD_W8"
      },
      "source": [
        "import matplotlib.pyplot as plt\n",
        "%matplotlib inline\n",
        "import seaborn as sns"
      ],
      "execution_count": null,
      "outputs": []
    },
    {
      "cell_type": "code",
      "metadata": {
        "colab": {
          "base_uri": "https://localhost:8080/",
          "height": 313
        },
        "id": "yF22lAqOEhyQ",
        "outputId": "6eb89b2a-bc9c-489d-ac37-1849ff049f71"
      },
      "source": [
        "sns.boxplot(x='Total_Population', data = new_df)\n",
        "plt.title('Total popolation in denmark from 2011-2021')"
      ],
      "execution_count": null,
      "outputs": [
        {
          "output_type": "execute_result",
          "data": {
            "text/plain": [
              "Text(0.5, 1.0, 'Total popolation in denmark from 2011-2021')"
            ]
          },
          "metadata": {
            "tags": []
          },
          "execution_count": 38
        },
        {
          "output_type": "display_data",
          "data": {
            "image/png": "[encoded data removed]",
            "text/plain": [
              "<Figure size 432x288 with 1 Axes>"
            ]
          },
          "metadata": {
            "tags": [],
            "needs_background": "light"
          }
        }
      ]
    },
    {
      "cell_type": "code",
      "metadata": {
        "colab": {
          "base_uri": "https://localhost:8080/",
          "height": 382
        },
        "id": "7ULgM5R4Fj3q",
        "outputId": "623f0ce2-5f58-4c73-ef92-c4cf75a3f9b7"
      },
      "source": [
        "new_df.plot(x ='Years', y=['Male','Female','Total_Population'], kind = 'bar', figsize=(20, 5))\n",
        "plt.ylabel('No of people(millions)')\n",
        "plt.xlabel('Years')\n",
        "plt.title('Gender-wise and Total Population in Denmark')"
      ],
      "execution_count": null,
      "outputs": [
        {
          "output_type": "execute_result",
          "data": {
            "text/plain": [
              "Text(0.5, 1.0, 'Gender-wise and Total Population in Denmark')"
            ]
          },
          "metadata": {
            "tags": []
          },
          "execution_count": 327
        },
        {
          "output_type": "display_data",
          "data": {
            "image/png": "[encoded data removed]",
            "text/plain": [
              "<Figure size 1440x360 with 1 Axes>"
            ]
          },
          "metadata": {
            "tags": [],
            "needs_background": "light"
          }
        }
      ]
    },
    {
      "cell_type": "markdown",
      "metadata": {
        "id": "drroYUEIWDyQ"
      },
      "source": [
        "This plot shows us the total population and also the number of male and female population in Denmark. Females number are always slightly higher than males but if we observe closely that difference is slowly coming down and almost half of the population is shared by both the genders. \n",
        "Denmark believes in equality and brings the opportunity for both the genders equally in the socitey.\n"
      ]
    },
    {
      "cell_type": "code",
      "metadata": {
        "colab": {
          "base_uri": "https://localhost:8080/",
          "height": 350
        },
        "id": "3l83BQ2zEh1I",
        "outputId": "bf750ce6-7ee2-466c-b8f4-c6afffd03a85"
      },
      "source": [
        "new_df.plot(x ='Years', y=['0-19 years','20-39 years','40-59 years','60-79 years','80 years and older'], kind = 'line', figsize=(15, 5))\n",
        "plt.ylabel('No of people(millions)')\n",
        "plt.xlabel('Years')\n",
        "plt.title('Population in Denmark on the base of different age-groups')\n",
        "plt.show()"
      ],
      "execution_count": null,
      "outputs": [
        {
          "output_type": "display_data",
          "data": {
            "image/png": "[encoded data removed]",
            "text/plain": [
              "<Figure size 1080x360 with 1 Axes>"
            ]
          },
          "metadata": {
            "tags": [],
            "needs_background": "light"
          }
        }
      ]
    },
    {
      "cell_type": "markdown",
      "metadata": {
        "id": "WniFD6rWUYer"
      },
      "source": [
        "In this plot we can see that the most number of people in denmark are of age 40-59, and there is a gap of young generation 0-19. That means in future there will be shortage of working people in the society, who can contribute in welfare income. So govenment should take actions accordingly, which can bring balance in the socitey for futur, like pension scheme, or child benfit payment and more. They should also encourage or bbring such schemes in the society so that young generation stay in Denmark and can help economy to grow. \n",
        "\n",
        "This plot also shows life expectancy also. There is very less generation of older people, that means either people are dying in young age or they are moving in other countries. "
      ]
    },
    {
      "cell_type": "code",
      "metadata": {
        "colab": {
          "base_uri": "https://localhost:8080/"
        },
        "id": "8Ce7LwZJvTSO",
        "outputId": "a5c116a4-ebb7-45e7-d05a-fd458519e661"
      },
      "source": [
        "from google.colab import drive\n",
        "drive.mount('/content/drive')"
      ],
      "execution_count": 3,
      "outputs": [
        {
          "output_type": "stream",
          "text": [
            "Mounted at /content/drive\n"
          ],
          "name": "stdout"
        }
      ]
    },
    {
      "cell_type": "code",
      "metadata": {
        "colab": {
          "base_uri": "https://localhost:8080/"
        },
        "id": "tUWOIhJRzwnT",
        "outputId": "091819ba-76b5-4cc8-9be7-f316022c192e"
      },
      "source": [
        "!ls \"/content/drive/My Drive/PYTHON   SQL   EXCEL\""
      ],
      "execution_count": 4,
      "outputs": [
        {
          "output_type": "stream",
          "text": [
            " color_data.csv\t\t\t\t\t\t    notebook.ipynb\n",
            "'Denmark_Crime_Regionwise - Denmark_Crime_Regionwise.csv'   postcode.xlsx\n",
            " netflix_data.csv\n"
          ],
          "name": "stdout"
        }
      ]
    },
    {
      "cell_type": "code",
      "metadata": {
        "id": "ztZZ-pEUsg9i"
      },
      "source": [
        "df_crime = pd.read_csv(\"/content/drive/My Drive/PYTHON   SQL   EXCEL/Denmark_Crime_Regionwise - Denmark_Crime_Regionwise.csv\")\n",
        "#df_crime"
      ],
      "execution_count": 11,
      "outputs": []
    },
    {
      "cell_type": "code",
      "metadata": {
        "id": "4cMNAbPj4w0F"
      },
      "source": [
        "df_crime.drop(['2007Q1','2007Q2','2007Q3','2007Q4','2008Q1','2008Q2','2008Q3','2008Q4','2009Q1','2009Q2','2009Q3','2009Q4','2010Q1','2010Q2','2010Q3','2010Q4'],axis = 1,inplace = True)\n",
        "#df_crime.head()"
      ],
      "execution_count": 12,
      "outputs": []
    },
    {
      "cell_type": "code",
      "metadata": {
        "id": "okHuR9XU4aO8"
      },
      "source": [
        "import numpy as np\n",
        "\n",
        "df_crime['REGION'].replace(r'Unknown municipality', np.nan, inplace = True)\n",
        "df_crime.replace(0, np.nan, inplace = True)\n",
        "df_crime = df_crime.dropna()"
      ],
      "execution_count": 13,
      "outputs": []
    },
    {
      "cell_type": "code",
      "metadata": {
        "id": "A584J8entpRX"
      },
      "source": [
        "df_crime['2011'] = df_crime['2011Q1'] + df_crime['2011Q2'] + df_crime['2011Q3'] + df_crime['2011Q4']"
      ],
      "execution_count": 14,
      "outputs": []
    },
    {
      "cell_type": "code",
      "metadata": {
        "id": "pioG8rS58HVW"
      },
      "source": [
        "df_crime['2012'] = df_crime['2012Q1'] + df_crime['2012Q2'] + df_crime['2012Q3'] + df_crime['2012Q4']\n",
        "#df_crime['2012']"
      ],
      "execution_count": 15,
      "outputs": []
    },
    {
      "cell_type": "code",
      "metadata": {
        "id": "9dsCbSow8HXv"
      },
      "source": [
        "df_crime['2013'] = df_crime['2013Q1'] + df_crime['2013Q2'] + df_crime['2013Q3'] + df_crime['2013Q4']\n",
        "#df_crime['2013']"
      ],
      "execution_count": 16,
      "outputs": []
    },
    {
      "cell_type": "code",
      "metadata": {
        "id": "1adQ8y6C8Hbm"
      },
      "source": [
        "df_crime['2014'] = df_crime['2014Q1'] + df_crime['2014Q2'] + df_crime['2014Q3'] + df_crime['2014Q4']"
      ],
      "execution_count": 17,
      "outputs": []
    },
    {
      "cell_type": "code",
      "metadata": {
        "id": "cT8BclhV_t_F"
      },
      "source": [
        "df_crime['2015'] = df_crime['2015Q1'] + df_crime['2015Q2'] + df_crime['2015Q3'] + df_crime['2015Q4']"
      ],
      "execution_count": 18,
      "outputs": []
    },
    {
      "cell_type": "code",
      "metadata": {
        "id": "y6NGcaQa_uG7"
      },
      "source": [
        "df_crime['2016'] = df_crime['2016Q1'] + df_crime['2016Q2'] + df_crime['2016Q3'] + df_crime['2016Q4']"
      ],
      "execution_count": 19,
      "outputs": []
    },
    {
      "cell_type": "code",
      "metadata": {
        "id": "taYxtPphAZsw"
      },
      "source": [
        "df_crime['2017'] = df_crime['2017Q1'] + df_crime['2017Q2'] + df_crime['2017Q3'] + df_crime['2017Q4']"
      ],
      "execution_count": 20,
      "outputs": []
    },
    {
      "cell_type": "code",
      "metadata": {
        "id": "aFlSROVAAZvw"
      },
      "source": [
        "df_crime['2018'] = df_crime['2018Q1'] + df_crime['2018Q2'] + df_crime['2018Q3'] + df_crime['2018Q4']"
      ],
      "execution_count": 21,
      "outputs": []
    },
    {
      "cell_type": "code",
      "metadata": {
        "id": "RLEO1XQcAaBq"
      },
      "source": [
        "df_crime['2019'] = df_crime['2019Q1'] + df_crime['2019Q2'] + df_crime['2019Q3']"
      ],
      "execution_count": 22,
      "outputs": []
    },
    {
      "cell_type": "code",
      "metadata": {
        "colab": {
          "base_uri": "https://localhost:8080/",
          "height": 419
        },
        "id": "43tI52va14Li",
        "outputId": "79b618b2-a2fe-481c-83ac-eef4e3271229"
      },
      "source": [
        "df_crime_2011_2019 = df_crime[['REGION','TYPE OF OFFENCE','2011','2012','2013','2014','2015','2016','2017','2018','2019']]\n",
        "df_crime_2011_2019"
      ],
      "execution_count": 23,
      "outputs": [
        {
          "output_type": "execute_result",
          "data": {
            "text/html": [
              "<div>\n",
              "<style scoped>\n",
              "    .dataframe tbody tr th:only-of-type {\n",
              "        vertical-align: middle;\n",
              "    }\n",
              "\n",
              "    .dataframe tbody tr th {\n",
              "        vertical-align: top;\n",
              "    }\n",
              "\n",
              "    .dataframe thead th {\n",
              "        text-align: right;\n",
              "    }\n",
              "</style>\n",
              "<table border=\"1\" class=\"dataframe\">\n",
              "  <thead>\n",
              "    <tr style=\"text-align: right;\">\n",
              "      <th></th>\n",
              "      <th>REGION</th>\n",
              "      <th>TYPE OF OFFENCE</th>\n",
              "      <th>2011</th>\n",
              "      <th>2012</th>\n",
              "      <th>2013</th>\n",
              "      <th>2014</th>\n",
              "      <th>2015</th>\n",
              "      <th>2016</th>\n",
              "      <th>2017</th>\n",
              "      <th>2018</th>\n",
              "      <th>2019</th>\n",
              "    </tr>\n",
              "  </thead>\n",
              "  <tbody>\n",
              "    <tr>\n",
              "      <th>0</th>\n",
              "      <td>Region Hovedstaden</td>\n",
              "      <td>Nature of the offence, total</td>\n",
              "      <td>202970.0</td>\n",
              "      <td>204274.0</td>\n",
              "      <td>208816.0</td>\n",
              "      <td>202023.0</td>\n",
              "      <td>193120.0</td>\n",
              "      <td>202452.0</td>\n",
              "      <td>189518.0</td>\n",
              "      <td>181544.0</td>\n",
              "      <td>133848.0</td>\n",
              "    </tr>\n",
              "    <tr>\n",
              "      <th>1</th>\n",
              "      <td>Region Hovedstaden</td>\n",
              "      <td>Penal Code, total</td>\n",
              "      <td>175579.0</td>\n",
              "      <td>175146.0</td>\n",
              "      <td>172440.0</td>\n",
              "      <td>163923.0</td>\n",
              "      <td>158254.0</td>\n",
              "      <td>165432.0</td>\n",
              "      <td>153951.0</td>\n",
              "      <td>140684.0</td>\n",
              "      <td>99781.0</td>\n",
              "    </tr>\n",
              "    <tr>\n",
              "      <th>3</th>\n",
              "      <td>Region Hovedstaden</td>\n",
              "      <td>Sexual offenses, total</td>\n",
              "      <td>610.0</td>\n",
              "      <td>667.0</td>\n",
              "      <td>653.0</td>\n",
              "      <td>574.0</td>\n",
              "      <td>705.0</td>\n",
              "      <td>1522.0</td>\n",
              "      <td>1526.0</td>\n",
              "      <td>2221.0</td>\n",
              "      <td>1063.0</td>\n",
              "    </tr>\n",
              "    <tr>\n",
              "      <th>5</th>\n",
              "      <td>Region Hovedstaden</td>\n",
              "      <td>Rape, etc.</td>\n",
              "      <td>86.0</td>\n",
              "      <td>89.0</td>\n",
              "      <td>103.0</td>\n",
              "      <td>113.0</td>\n",
              "      <td>127.0</td>\n",
              "      <td>234.0</td>\n",
              "      <td>284.0</td>\n",
              "      <td>299.0</td>\n",
              "      <td>215.0</td>\n",
              "    </tr>\n",
              "    <tr>\n",
              "      <th>13</th>\n",
              "      <td>Region Hovedstaden</td>\n",
              "      <td>Offence against public decency by groping</td>\n",
              "      <td>128.0</td>\n",
              "      <td>124.0</td>\n",
              "      <td>124.0</td>\n",
              "      <td>122.0</td>\n",
              "      <td>186.0</td>\n",
              "      <td>214.0</td>\n",
              "      <td>266.0</td>\n",
              "      <td>270.0</td>\n",
              "      <td>201.0</td>\n",
              "    </tr>\n",
              "    <tr>\n",
              "      <th>...</th>\n",
              "      <td>...</td>\n",
              "      <td>...</td>\n",
              "      <td>...</td>\n",
              "      <td>...</td>\n",
              "      <td>...</td>\n",
              "      <td>...</td>\n",
              "      <td>...</td>\n",
              "      <td>...</td>\n",
              "      <td>...</td>\n",
              "      <td>...</td>\n",
              "      <td>...</td>\n",
              "    </tr>\n",
              "    <tr>\n",
              "      <th>9351</th>\n",
              "      <td>Aalborg</td>\n",
              "      <td>The environmental protection act</td>\n",
              "      <td>57.0</td>\n",
              "      <td>87.0</td>\n",
              "      <td>71.0</td>\n",
              "      <td>186.0</td>\n",
              "      <td>103.0</td>\n",
              "      <td>97.0</td>\n",
              "      <td>66.0</td>\n",
              "      <td>98.0</td>\n",
              "      <td>61.0</td>\n",
              "    </tr>\n",
              "    <tr>\n",
              "      <th>9352</th>\n",
              "      <td>Aalborg</td>\n",
              "      <td>Legislation on animals, hunting, etc.</td>\n",
              "      <td>251.0</td>\n",
              "      <td>214.0</td>\n",
              "      <td>185.0</td>\n",
              "      <td>185.0</td>\n",
              "      <td>128.0</td>\n",
              "      <td>106.0</td>\n",
              "      <td>104.0</td>\n",
              "      <td>148.0</td>\n",
              "      <td>109.0</td>\n",
              "    </tr>\n",
              "    <tr>\n",
              "      <th>9353</th>\n",
              "      <td>Aalborg</td>\n",
              "      <td>Legislation on employment, transport, etc.</td>\n",
              "      <td>146.0</td>\n",
              "      <td>129.0</td>\n",
              "      <td>231.0</td>\n",
              "      <td>205.0</td>\n",
              "      <td>203.0</td>\n",
              "      <td>219.0</td>\n",
              "      <td>272.0</td>\n",
              "      <td>239.0</td>\n",
              "      <td>232.0</td>\n",
              "    </tr>\n",
              "    <tr>\n",
              "      <th>9355</th>\n",
              "      <td>Aalborg</td>\n",
              "      <td>Legislation on the national defence</td>\n",
              "      <td>119.0</td>\n",
              "      <td>287.0</td>\n",
              "      <td>503.0</td>\n",
              "      <td>544.0</td>\n",
              "      <td>468.0</td>\n",
              "      <td>1039.0</td>\n",
              "      <td>1114.0</td>\n",
              "      <td>720.0</td>\n",
              "      <td>339.0</td>\n",
              "    </tr>\n",
              "    <tr>\n",
              "      <th>9357</th>\n",
              "      <td>Aalborg</td>\n",
              "      <td>Legislation on gambling, licencing, trade</td>\n",
              "      <td>326.0</td>\n",
              "      <td>276.0</td>\n",
              "      <td>290.0</td>\n",
              "      <td>239.0</td>\n",
              "      <td>172.0</td>\n",
              "      <td>238.0</td>\n",
              "      <td>309.0</td>\n",
              "      <td>388.0</td>\n",
              "      <td>207.0</td>\n",
              "    </tr>\n",
              "  </tbody>\n",
              "</table>\n",
              "<p>2796 rows × 11 columns</p>\n",
              "</div>"
            ],
            "text/plain": [
              "                  REGION  ...      2019\n",
              "0     Region Hovedstaden  ...  133848.0\n",
              "1     Region Hovedstaden  ...   99781.0\n",
              "3     Region Hovedstaden  ...    1063.0\n",
              "5     Region Hovedstaden  ...     215.0\n",
              "13    Region Hovedstaden  ...     201.0\n",
              "...                  ...  ...       ...\n",
              "9351             Aalborg  ...      61.0\n",
              "9352             Aalborg  ...     109.0\n",
              "9353             Aalborg  ...     232.0\n",
              "9355             Aalborg  ...     339.0\n",
              "9357             Aalborg  ...     207.0\n",
              "\n",
              "[2796 rows x 11 columns]"
            ]
          },
          "metadata": {
            "tags": []
          },
          "execution_count": 23
        }
      ]
    },
    {
      "cell_type": "code",
      "metadata": {
        "colab": {
          "base_uri": "https://localhost:8080/",
          "height": 419
        },
        "id": "teFdnSeuSnVn",
        "outputId": "ee2d6ade-c884-43c2-f5bd-4257ebb1cfd0"
      },
      "source": [
        "df_crime_plot = df_crime_2011_2019.groupby(['REGION'])['TYPE OF OFFENCE'].count().reset_index()\n",
        "df_crime_plot"
      ],
      "execution_count": null,
      "outputs": [
        {
          "output_type": "execute_result",
          "data": {
            "text/html": [
              "<div>\n",
              "<style scoped>\n",
              "    .dataframe tbody tr th:only-of-type {\n",
              "        vertical-align: middle;\n",
              "    }\n",
              "\n",
              "    .dataframe tbody tr th {\n",
              "        vertical-align: top;\n",
              "    }\n",
              "\n",
              "    .dataframe thead th {\n",
              "        text-align: right;\n",
              "    }\n",
              "</style>\n",
              "<table border=\"1\" class=\"dataframe\">\n",
              "  <thead>\n",
              "    <tr style=\"text-align: right;\">\n",
              "      <th></th>\n",
              "      <th>REGION</th>\n",
              "      <th>TYPE OF OFFENCE</th>\n",
              "    </tr>\n",
              "  </thead>\n",
              "  <tbody>\n",
              "    <tr>\n",
              "      <th>0</th>\n",
              "      <td>Aabenraa</td>\n",
              "      <td>33</td>\n",
              "    </tr>\n",
              "    <tr>\n",
              "      <th>1</th>\n",
              "      <td>Aalborg</td>\n",
              "      <td>44</td>\n",
              "    </tr>\n",
              "    <tr>\n",
              "      <th>2</th>\n",
              "      <td>Aarhus</td>\n",
              "      <td>49</td>\n",
              "    </tr>\n",
              "    <tr>\n",
              "      <th>3</th>\n",
              "      <td>Albertslund</td>\n",
              "      <td>26</td>\n",
              "    </tr>\n",
              "    <tr>\n",
              "      <th>4</th>\n",
              "      <td>Allerød</td>\n",
              "      <td>19</td>\n",
              "    </tr>\n",
              "    <tr>\n",
              "      <th>...</th>\n",
              "      <td>...</td>\n",
              "      <td>...</td>\n",
              "    </tr>\n",
              "    <tr>\n",
              "      <th>98</th>\n",
              "      <td>Vejle</td>\n",
              "      <td>34</td>\n",
              "    </tr>\n",
              "    <tr>\n",
              "      <th>99</th>\n",
              "      <td>Vesthimmerlands</td>\n",
              "      <td>26</td>\n",
              "    </tr>\n",
              "    <tr>\n",
              "      <th>100</th>\n",
              "      <td>Viborg</td>\n",
              "      <td>28</td>\n",
              "    </tr>\n",
              "    <tr>\n",
              "      <th>101</th>\n",
              "      <td>Vordingborg</td>\n",
              "      <td>26</td>\n",
              "    </tr>\n",
              "    <tr>\n",
              "      <th>102</th>\n",
              "      <td>Ærø</td>\n",
              "      <td>5</td>\n",
              "    </tr>\n",
              "  </tbody>\n",
              "</table>\n",
              "<p>103 rows × 2 columns</p>\n",
              "</div>"
            ],
            "text/plain": [
              "              REGION  TYPE OF OFFENCE\n",
              "0           Aabenraa               33\n",
              "1            Aalborg               44\n",
              "2             Aarhus               49\n",
              "3        Albertslund               26\n",
              "4            Allerød               19\n",
              "..               ...              ...\n",
              "98             Vejle               34\n",
              "99   Vesthimmerlands               26\n",
              "100           Viborg               28\n",
              "101      Vordingborg               26\n",
              "102              Ærø                5\n",
              "\n",
              "[103 rows x 2 columns]"
            ]
          },
          "metadata": {
            "tags": []
          },
          "execution_count": 316
        }
      ]
    },
    {
      "cell_type": "code",
      "metadata": {
        "colab": {
          "base_uri": "https://localhost:8080/",
          "height": 441
        },
        "id": "PAe3-Yg4S0Rn",
        "outputId": "9a1d7f98-709c-4d9d-db81-1016104fd842"
      },
      "source": [
        "df_crime_plot.plot(x ='REGION', y='TYPE OF OFFENCE', kind = 'bar',figsize=(20, 5))\n",
        "plt.ylabel('Total number of Offences')\n",
        "plt.xlabel('Regions in Denmark')\n",
        "plt.title('Total number of Offence in different Regions of Denmark')\n",
        "plt.show()"
      ],
      "execution_count": null,
      "outputs": [
        {
          "output_type": "display_data",
          "data": {
            "image/png": "[encoded data removed]",
            "text/plain": [
              "<Figure size 1440x360 with 1 Axes>"
            ]
          },
          "metadata": {
            "tags": [],
            "needs_background": "light"
          }
        }
      ]
    },
    {
      "cell_type": "markdown",
      "metadata": {
        "id": "6buTlMz3W-xB"
      },
      "source": [
        "In this plot we can see regions in denmark with the numbers of crimes happened in these regions within the time period of 2011-2019. \n",
        "As we can see that most of the numbers are registered in 'Copenhagen','Aarhus','Aalborg' and 'Odense'. Being big city, these cities have more exposure, so there is also more crime reported. The safest area to live in Denmark is Læsø, Samsø and Ærø, where the crime reports are less. "
      ]
    },
    {
      "cell_type": "code",
      "metadata": {
        "id": "U8BQlGT44CcK",
        "colab": {
          "base_uri": "https://localhost:8080/",
          "height": 410
        },
        "outputId": "ed2b9244-cb1b-456c-cd8f-5484f2037434"
      },
      "source": [
        "df_crime_plot1 = df_crime_2011_2019.groupby(['TYPE OF OFFENCE'])['2019','2018','2017','2016'].sum().reset_index()\n",
        "df_crime_plot1.sort_values(['2019','2018','2017','2016'], ascending=False, inplace=True)\n",
        "df_crime_plot2 = df_crime_plot1[:10]\n",
        "df_crime_plot2"
      ],
      "execution_count": null,
      "outputs": [
        {
          "output_type": "stream",
          "text": [
            "/usr/local/lib/python3.7/dist-packages/ipykernel_launcher.py:1: FutureWarning: Indexing with multiple keys (implicitly converted to a tuple of keys) will be deprecated, use a list instead.\n",
            "  \"\"\"Entry point for launching an IPython kernel.\n"
          ],
          "name": "stderr"
        },
        {
          "output_type": "execute_result",
          "data": {
            "text/html": [
              "<div>\n",
              "<style scoped>\n",
              "    .dataframe tbody tr th:only-of-type {\n",
              "        vertical-align: middle;\n",
              "    }\n",
              "\n",
              "    .dataframe tbody tr th {\n",
              "        vertical-align: top;\n",
              "    }\n",
              "\n",
              "    .dataframe thead th {\n",
              "        text-align: right;\n",
              "    }\n",
              "</style>\n",
              "<table border=\"1\" class=\"dataframe\">\n",
              "  <thead>\n",
              "    <tr style=\"text-align: right;\">\n",
              "      <th></th>\n",
              "      <th>TYPE OF OFFENCE</th>\n",
              "      <th>2019</th>\n",
              "      <th>2018</th>\n",
              "      <th>2017</th>\n",
              "      <th>2016</th>\n",
              "    </tr>\n",
              "  </thead>\n",
              "  <tbody>\n",
              "    <tr>\n",
              "      <th>31</th>\n",
              "      <td>Nature of the offence, total</td>\n",
              "      <td>649544.0</td>\n",
              "      <td>895099.0</td>\n",
              "      <td>911937.0</td>\n",
              "      <td>931438.0</td>\n",
              "    </tr>\n",
              "    <tr>\n",
              "      <th>44</th>\n",
              "      <td>Penal Code, total</td>\n",
              "      <td>456584.0</td>\n",
              "      <td>660134.0</td>\n",
              "      <td>712475.0</td>\n",
              "      <td>741946.0</td>\n",
              "    </tr>\n",
              "    <tr>\n",
              "      <th>37</th>\n",
              "      <td>Offences against property, total</td>\n",
              "      <td>395830.0</td>\n",
              "      <td>578929.0</td>\n",
              "      <td>639028.0</td>\n",
              "      <td>677855.0</td>\n",
              "    </tr>\n",
              "    <tr>\n",
              "      <th>53</th>\n",
              "      <td>Special acts, total</td>\n",
              "      <td>192898.0</td>\n",
              "      <td>234680.0</td>\n",
              "      <td>199273.0</td>\n",
              "      <td>189435.0</td>\n",
              "    </tr>\n",
              "    <tr>\n",
              "      <th>41</th>\n",
              "      <td>Other kinds of theft</td>\n",
              "      <td>92588.0</td>\n",
              "      <td>145553.0</td>\n",
              "      <td>195713.0</td>\n",
              "      <td>213332.0</td>\n",
              "    </tr>\n",
              "    <tr>\n",
              "      <th>43</th>\n",
              "      <td>Other special acts in criminal law</td>\n",
              "      <td>76242.0</td>\n",
              "      <td>92727.0</td>\n",
              "      <td>79594.0</td>\n",
              "      <td>76563.0</td>\n",
              "    </tr>\n",
              "    <tr>\n",
              "      <th>60</th>\n",
              "      <td>Theft of/taking bicycle without the owners con...</td>\n",
              "      <td>69508.0</td>\n",
              "      <td>93068.0</td>\n",
              "      <td>96133.0</td>\n",
              "      <td>104869.0</td>\n",
              "    </tr>\n",
              "    <tr>\n",
              "      <th>14</th>\n",
              "      <td>Euphoriants Act</td>\n",
              "      <td>43922.0</td>\n",
              "      <td>53651.0</td>\n",
              "      <td>47376.0</td>\n",
              "      <td>41797.0</td>\n",
              "    </tr>\n",
              "    <tr>\n",
              "      <th>12</th>\n",
              "      <td>Crimes of violence, total</td>\n",
              "      <td>39239.0</td>\n",
              "      <td>51930.0</td>\n",
              "      <td>50550.0</td>\n",
              "      <td>41939.0</td>\n",
              "    </tr>\n",
              "    <tr>\n",
              "      <th>48</th>\n",
              "      <td>Residential burglaries</td>\n",
              "      <td>34149.0</td>\n",
              "      <td>57413.0</td>\n",
              "      <td>58203.0</td>\n",
              "      <td>63451.0</td>\n",
              "    </tr>\n",
              "  </tbody>\n",
              "</table>\n",
              "</div>"
            ],
            "text/plain": [
              "                                      TYPE OF OFFENCE  ...      2016\n",
              "31                       Nature of the offence, total  ...  931438.0\n",
              "44                                  Penal Code, total  ...  741946.0\n",
              "37                   Offences against property, total  ...  677855.0\n",
              "53                                Special acts, total  ...  189435.0\n",
              "41                               Other kinds of theft  ...  213332.0\n",
              "43                 Other special acts in criminal law  ...   76563.0\n",
              "60  Theft of/taking bicycle without the owners con...  ...  104869.0\n",
              "14                                    Euphoriants Act  ...   41797.0\n",
              "12                          Crimes of violence, total  ...   41939.0\n",
              "48                             Residential burglaries  ...   63451.0\n",
              "\n",
              "[10 rows x 5 columns]"
            ]
          },
          "metadata": {
            "tags": []
          },
          "execution_count": 31
        }
      ]
    },
    {
      "cell_type": "code",
      "metadata": {
        "id": "QGaEtZjQ4Jlz",
        "colab": {
          "base_uri": "https://localhost:8080/",
          "height": 559
        },
        "outputId": "a83c775d-b732-4c6b-8f59-3c2123ceba0e"
      },
      "source": [
        "df_crime_plot2.plot(x = 'TYPE OF OFFENCE', y= ['2019','2018','2017','2016'], kind = 'area',figsize=(20, 5))\n",
        "plt.ylabel('Total number of Offence')\n",
        "plt.xlabel('TYPE OF OFFENCE')\n",
        "plt.title('Total number of offences year 2019-2016 in Denmark')\n",
        "plt.show()"
      ],
      "execution_count": null,
      "outputs": [
        {
          "output_type": "error",
          "ename": "TypeError",
          "evalue": "ignored",
          "traceback": [
            "\u001b[0;31m---------------------------------------------------------------------------\u001b[0m",
            "\u001b[0;31mTypeError\u001b[0m                                 Traceback (most recent call last)",
            "\u001b[0;32m<ipython-input-336-9268b187febb>\u001b[0m in \u001b[0;36m<module>\u001b[0;34m()\u001b[0m\n\u001b[1;32m      1\u001b[0m \u001b[0mdf_crime_plot2\u001b[0m\u001b[0;34m.\u001b[0m\u001b[0mplot\u001b[0m\u001b[0;34m(\u001b[0m\u001b[0mx\u001b[0m \u001b[0;34m=\u001b[0m \u001b[0;34m'TYPE OF OFFENCE'\u001b[0m\u001b[0;34m,\u001b[0m \u001b[0my\u001b[0m\u001b[0;34m=\u001b[0m \u001b[0;34m[\u001b[0m\u001b[0;34m'2019'\u001b[0m\u001b[0;34m,\u001b[0m\u001b[0;34m'2018'\u001b[0m\u001b[0;34m,\u001b[0m\u001b[0;34m'2017'\u001b[0m\u001b[0;34m,\u001b[0m\u001b[0;34m'2016'\u001b[0m\u001b[0;34m]\u001b[0m\u001b[0;34m,\u001b[0m \u001b[0mkind\u001b[0m \u001b[0;34m=\u001b[0m \u001b[0;34m'area'\u001b[0m\u001b[0;34m,\u001b[0m\u001b[0mfigsize\u001b[0m\u001b[0;34m=\u001b[0m\u001b[0;34m(\u001b[0m\u001b[0;36m20\u001b[0m\u001b[0;34m,\u001b[0m \u001b[0;36m5\u001b[0m\u001b[0;34m)\u001b[0m\u001b[0;34m)\u001b[0m\u001b[0;34m\u001b[0m\u001b[0;34m\u001b[0m\u001b[0m\n\u001b[0;32m----> 2\u001b[0;31m \u001b[0mplt\u001b[0m\u001b[0;34m.\u001b[0m\u001b[0mylabel\u001b[0m\u001b[0;34m(\u001b[0m\u001b[0;34m'Total number of Offence'\u001b[0m\u001b[0;34m)\u001b[0m\u001b[0;34m\u001b[0m\u001b[0;34m\u001b[0m\u001b[0m\n\u001b[0m\u001b[1;32m      3\u001b[0m \u001b[0mplt\u001b[0m\u001b[0;34m.\u001b[0m\u001b[0mxlabel\u001b[0m\u001b[0;34m(\u001b[0m\u001b[0;34m'TYPE OF OFFENCE'\u001b[0m\u001b[0;34m)\u001b[0m\u001b[0;34m\u001b[0m\u001b[0;34m\u001b[0m\u001b[0m\n\u001b[1;32m      4\u001b[0m \u001b[0mplt\u001b[0m\u001b[0;34m.\u001b[0m\u001b[0mtitle\u001b[0m\u001b[0;34m(\u001b[0m\u001b[0;34m'Total number of offences year 2019-2016 in Denmark'\u001b[0m\u001b[0;34m)\u001b[0m\u001b[0;34m\u001b[0m\u001b[0;34m\u001b[0m\u001b[0m\n\u001b[1;32m      5\u001b[0m \u001b[0mplt\u001b[0m\u001b[0;34m.\u001b[0m\u001b[0mshow\u001b[0m\u001b[0;34m(\u001b[0m\u001b[0;34m)\u001b[0m\u001b[0;34m\u001b[0m\u001b[0;34m\u001b[0m\u001b[0m\n",
            "\u001b[0;31mTypeError\u001b[0m: 'str' object is not callable"
          ]
        },
        {
          "output_type": "display_data",
          "data": {
            "image/png": "[encoded data removed]",
            "text/plain": [
              "<Figure size 1440x360 with 1 Axes>"
            ]
          },
          "metadata": {
            "tags": [],
            "needs_background": "light"
          }
        }
      ]
    },
    {
      "cell_type": "markdown",
      "metadata": {
        "id": "W2HmEwaxj-4t"
      },
      "source": [
        "In this plot we can see the crime rate has come down from 2016 to 2019, which is a good sign. But there is till some offence is on high number."
      ]
    },
    {
      "cell_type": "code",
      "metadata": {
        "colab": {
          "base_uri": "https://localhost:8080/"
        },
        "id": "lOPvrRkjaPhZ",
        "outputId": "75446839-8cc4-4b46-e13b-cdafb13e65c9"
      },
      "source": [
        "df_crime_plot4 = df_crime_2011_2019.groupby(['REGION'])['2019','2018','2017','2016'].sum().reset_index()\n",
        "df_crime_plot4.sort_values(['2019','2018','2017','2016'], ascending=False, inplace=True)  "
      ],
      "execution_count": null,
      "outputs": [
        {
          "output_type": "stream",
          "text": [
            "/usr/local/lib/python3.7/dist-packages/ipykernel_launcher.py:1: FutureWarning: Indexing with multiple keys (implicitly converted to a tuple of keys) will be deprecated, use a list instead.\n",
            "  \"\"\"Entry point for launching an IPython kernel.\n"
          ],
          "name": "stderr"
        }
      ]
    },
    {
      "cell_type": "code",
      "metadata": {
        "colab": {
          "base_uri": "https://localhost:8080/",
          "height": 559
        },
        "id": "3yWOU9cPPeOG",
        "outputId": "ef83b88b-a3e5-4c12-d7f4-af9efadcf235"
      },
      "source": [
        "df_crime_plot4.plot(x='REGION',y=['2019','2018','2017','2016'], figsize=(20, 5), kind='area')\n",
        "plt.ylabel('Total number of Offence')\n",
        "plt.xlabel('Region')\n",
        "plt.title('10 Highest number of offences in regions of Denmark through year 2019-2016')\n",
        "plt.show()"
      ],
      "execution_count": null,
      "outputs": [
        {
          "output_type": "error",
          "ename": "TypeError",
          "evalue": "ignored",
          "traceback": [
            "\u001b[0;31m---------------------------------------------------------------------------\u001b[0m",
            "\u001b[0;31mTypeError\u001b[0m                                 Traceback (most recent call last)",
            "\u001b[0;32m<ipython-input-340-2874865773e1>\u001b[0m in \u001b[0;36m<module>\u001b[0;34m()\u001b[0m\n\u001b[1;32m      1\u001b[0m \u001b[0mdf_crime_plot4\u001b[0m\u001b[0;34m.\u001b[0m\u001b[0mplot\u001b[0m\u001b[0;34m(\u001b[0m\u001b[0mx\u001b[0m\u001b[0;34m=\u001b[0m\u001b[0;34m'REGION'\u001b[0m\u001b[0;34m,\u001b[0m\u001b[0my\u001b[0m\u001b[0;34m=\u001b[0m\u001b[0;34m[\u001b[0m\u001b[0;34m'2019'\u001b[0m\u001b[0;34m,\u001b[0m\u001b[0;34m'2018'\u001b[0m\u001b[0;34m,\u001b[0m\u001b[0;34m'2017'\u001b[0m\u001b[0;34m,\u001b[0m\u001b[0;34m'2016'\u001b[0m\u001b[0;34m]\u001b[0m\u001b[0;34m,\u001b[0m \u001b[0mfigsize\u001b[0m\u001b[0;34m=\u001b[0m\u001b[0;34m(\u001b[0m\u001b[0;36m20\u001b[0m\u001b[0;34m,\u001b[0m \u001b[0;36m5\u001b[0m\u001b[0;34m)\u001b[0m\u001b[0;34m,\u001b[0m \u001b[0mkind\u001b[0m\u001b[0;34m=\u001b[0m\u001b[0;34m'area'\u001b[0m\u001b[0;34m)\u001b[0m\u001b[0;34m\u001b[0m\u001b[0;34m\u001b[0m\u001b[0m\n\u001b[0;32m----> 2\u001b[0;31m \u001b[0mplt\u001b[0m\u001b[0;34m.\u001b[0m\u001b[0mylabel\u001b[0m\u001b[0;34m(\u001b[0m\u001b[0;34m'Total number of Offence'\u001b[0m\u001b[0;34m)\u001b[0m\u001b[0;34m\u001b[0m\u001b[0;34m\u001b[0m\u001b[0m\n\u001b[0m\u001b[1;32m      3\u001b[0m \u001b[0mplt\u001b[0m\u001b[0;34m.\u001b[0m\u001b[0mxlabel\u001b[0m\u001b[0;34m(\u001b[0m\u001b[0;34m'Region'\u001b[0m\u001b[0;34m)\u001b[0m\u001b[0;34m\u001b[0m\u001b[0;34m\u001b[0m\u001b[0m\n\u001b[1;32m      4\u001b[0m \u001b[0mplt\u001b[0m\u001b[0;34m.\u001b[0m\u001b[0mtitle\u001b[0m\u001b[0;34m(\u001b[0m\u001b[0;34m'10 Highest number of offences in regions of Denmark through year 2019-2016'\u001b[0m\u001b[0;34m)\u001b[0m\u001b[0;34m\u001b[0m\u001b[0;34m\u001b[0m\u001b[0m\n\u001b[1;32m      5\u001b[0m \u001b[0mplt\u001b[0m\u001b[0;34m.\u001b[0m\u001b[0mshow\u001b[0m\u001b[0;34m(\u001b[0m\u001b[0;34m)\u001b[0m\u001b[0;34m\u001b[0m\u001b[0;34m\u001b[0m\u001b[0m\n",
            "\u001b[0;31mTypeError\u001b[0m: 'str' object is not callable"
          ]
        },
        {
          "output_type": "display_data",
          "data": {
            "image/png": "[encoded data removed]",
            "text/plain": [
              "<Figure size 1440x360 with 1 Axes>"
            ]
          },
          "metadata": {
            "tags": [],
            "needs_background": "light"
          }
        }
      ]
    },
    {
      "cell_type": "markdown",
      "metadata": {
        "id": "oxMV2P2TkflT"
      },
      "source": [
        "Region hovestaden has the highest number of crimes. we can say, being a capital it is most populated and exposed area. So the number of crimes happenes in Region hovedstaden are the highest. Now we need to find which kommune has the highest number, so that we can prevent the crimes and make the society to live a better place."
      ]
    },
    {
      "cell_type": "code",
      "metadata": {
        "id": "5A7GZ5H6k5Kv"
      },
      "source": [
        "df_hovedstaden = pd.read_excel('/content/drive/My Drive/PYTHON   SQL   EXCEL/postcode.xlsx')"
      ],
      "execution_count": 34,
      "outputs": []
    },
    {
      "cell_type": "code",
      "metadata": {
        "colab": {
          "base_uri": "https://localhost:8080/",
          "height": 979
        },
        "id": "yUouE6QIlHqL",
        "outputId": "d6640a6c-c5e3-493f-f71a-a7cbe42067ba"
      },
      "source": [
        "df_hovedstaden.rename(columns = {'Region Hovedstaden':'REGION'}, inplace = True)\n",
        "df_hovedstaden"
      ],
      "execution_count": 35,
      "outputs": [
        {
          "output_type": "execute_result",
          "data": {
            "text/html": [
              "<div>\n",
              "<style scoped>\n",
              "    .dataframe tbody tr th:only-of-type {\n",
              "        vertical-align: middle;\n",
              "    }\n",
              "\n",
              "    .dataframe tbody tr th {\n",
              "        vertical-align: top;\n",
              "    }\n",
              "\n",
              "    .dataframe thead th {\n",
              "        text-align: right;\n",
              "    }\n",
              "</style>\n",
              "<table border=\"1\" class=\"dataframe\">\n",
              "  <thead>\n",
              "    <tr style=\"text-align: right;\">\n",
              "      <th></th>\n",
              "      <th>REGION</th>\n",
              "      <th>Postcode</th>\n",
              "      <th>Population</th>\n",
              "    </tr>\n",
              "  </thead>\n",
              "  <tbody>\n",
              "    <tr>\n",
              "      <th>0</th>\n",
              "      <td>Albertslund</td>\n",
              "      <td>2620</td>\n",
              "      <td>30000</td>\n",
              "    </tr>\n",
              "    <tr>\n",
              "      <th>1</th>\n",
              "      <td>Allerod</td>\n",
              "      <td>3450</td>\n",
              "      <td>16762</td>\n",
              "    </tr>\n",
              "    <tr>\n",
              "      <th>2</th>\n",
              "      <td>Ballerup</td>\n",
              "      <td>2750</td>\n",
              "      <td>48231</td>\n",
              "    </tr>\n",
              "    <tr>\n",
              "      <th>3</th>\n",
              "      <td>Bornholm</td>\n",
              "      <td>3700</td>\n",
              "      <td>39570</td>\n",
              "    </tr>\n",
              "    <tr>\n",
              "      <th>4</th>\n",
              "      <td>Brondby</td>\n",
              "      <td>2605</td>\n",
              "      <td>35094</td>\n",
              "    </tr>\n",
              "    <tr>\n",
              "      <th>5</th>\n",
              "      <td>Christianso</td>\n",
              "      <td>3760</td>\n",
              "      <td>90</td>\n",
              "    </tr>\n",
              "    <tr>\n",
              "      <th>6</th>\n",
              "      <td>Dragor</td>\n",
              "      <td>2791</td>\n",
              "      <td>14494</td>\n",
              "    </tr>\n",
              "    <tr>\n",
              "      <th>7</th>\n",
              "      <td>Egedal</td>\n",
              "      <td>3540</td>\n",
              "      <td>42297</td>\n",
              "    </tr>\n",
              "    <tr>\n",
              "      <th>8</th>\n",
              "      <td>Fredensborg</td>\n",
              "      <td>3480</td>\n",
              "      <td>39551</td>\n",
              "    </tr>\n",
              "    <tr>\n",
              "      <th>9</th>\n",
              "      <td>Frederiksberg</td>\n",
              "      <td>2000</td>\n",
              "      <td>105037</td>\n",
              "    </tr>\n",
              "    <tr>\n",
              "      <th>10</th>\n",
              "      <td>Frederikssund</td>\n",
              "      <td>3600</td>\n",
              "      <td>44341</td>\n",
              "    </tr>\n",
              "    <tr>\n",
              "      <th>11</th>\n",
              "      <td>Fureso</td>\n",
              "      <td>3520</td>\n",
              "      <td>40325</td>\n",
              "    </tr>\n",
              "    <tr>\n",
              "      <th>12</th>\n",
              "      <td>Gentofte</td>\n",
              "      <td>2820</td>\n",
              "      <td>75805</td>\n",
              "    </tr>\n",
              "    <tr>\n",
              "      <th>13</th>\n",
              "      <td>Gladsaxe</td>\n",
              "      <td>2860</td>\n",
              "      <td>69000</td>\n",
              "    </tr>\n",
              "    <tr>\n",
              "      <th>14</th>\n",
              "      <td>Glostrup</td>\n",
              "      <td>2600</td>\n",
              "      <td>23128</td>\n",
              "    </tr>\n",
              "    <tr>\n",
              "      <th>15</th>\n",
              "      <td>Gribskov</td>\n",
              "      <td>3230</td>\n",
              "      <td>40850</td>\n",
              "    </tr>\n",
              "    <tr>\n",
              "      <th>16</th>\n",
              "      <td>Halsnaes</td>\n",
              "      <td>3200</td>\n",
              "      <td>30644</td>\n",
              "    </tr>\n",
              "    <tr>\n",
              "      <th>17</th>\n",
              "      <td>Helsingor</td>\n",
              "      <td>3000</td>\n",
              "      <td>62686</td>\n",
              "    </tr>\n",
              "    <tr>\n",
              "      <th>18</th>\n",
              "      <td>Herlev</td>\n",
              "      <td>2730</td>\n",
              "      <td>27851</td>\n",
              "    </tr>\n",
              "    <tr>\n",
              "      <th>19</th>\n",
              "      <td>Hillerod</td>\n",
              "      <td>3400</td>\n",
              "      <td>48728</td>\n",
              "    </tr>\n",
              "    <tr>\n",
              "      <th>20</th>\n",
              "      <td>Hoje-Taastrup</td>\n",
              "      <td>800</td>\n",
              "      <td>50676</td>\n",
              "    </tr>\n",
              "    <tr>\n",
              "      <th>21</th>\n",
              "      <td>Horsholm</td>\n",
              "      <td>2970</td>\n",
              "      <td>25007</td>\n",
              "    </tr>\n",
              "    <tr>\n",
              "      <th>22</th>\n",
              "      <td>Hvidovre</td>\n",
              "      <td>2650</td>\n",
              "      <td>53416</td>\n",
              "    </tr>\n",
              "    <tr>\n",
              "      <th>23</th>\n",
              "      <td>Ishoj</td>\n",
              "      <td>2635</td>\n",
              "      <td>21675</td>\n",
              "    </tr>\n",
              "    <tr>\n",
              "      <th>24</th>\n",
              "      <td>Kobenhavns</td>\n",
              "      <td>1001</td>\n",
              "      <td>602481</td>\n",
              "    </tr>\n",
              "    <tr>\n",
              "      <th>25</th>\n",
              "      <td>Lyngby-Taarbaek</td>\n",
              "      <td>2800</td>\n",
              "      <td>56088</td>\n",
              "    </tr>\n",
              "    <tr>\n",
              "      <th>26</th>\n",
              "      <td>Rodovre</td>\n",
              "      <td>2610</td>\n",
              "      <td>40652</td>\n",
              "    </tr>\n",
              "    <tr>\n",
              "      <th>27</th>\n",
              "      <td>Rudersdal</td>\n",
              "      <td>3460</td>\n",
              "      <td>56133</td>\n",
              "    </tr>\n",
              "    <tr>\n",
              "      <th>28</th>\n",
              "      <td>Tarnby</td>\n",
              "      <td>2770</td>\n",
              "      <td>43010</td>\n",
              "    </tr>\n",
              "    <tr>\n",
              "      <th>29</th>\n",
              "      <td>Vallensbaek</td>\n",
              "      <td>2625</td>\n",
              "      <td>16098</td>\n",
              "    </tr>\n",
              "  </tbody>\n",
              "</table>\n",
              "</div>"
            ],
            "text/plain": [
              "             REGION  Postcode  Population\n",
              "0      Albertslund       2620       30000\n",
              "1          Allerod       3450       16762\n",
              "2         Ballerup       2750       48231\n",
              "3          Bornholm      3700       39570\n",
              "4          Brondby       2605       35094\n",
              "5       Christianso      3760          90\n",
              "6           Dragor       2791       14494\n",
              "7            Egedal      3540       42297\n",
              "8      Fredensborg       3480       39551\n",
              "9    Frederiksberg       2000      105037\n",
              "10    Frederikssund      3600       44341\n",
              "11          Fureso       3520       40325\n",
              "12         Gentofte      2820       75805\n",
              "13         Gladsaxe      2860       69000\n",
              "14        Glostrup       2600       23128\n",
              "15        Gribskov       3230       40850\n",
              "16         Halsnaes      3200       30644\n",
              "17        Helsingor      3000       62686\n",
              "18           Herlev      2730       27851\n",
              "19        Hillerod       3400       48728\n",
              "20   Hoje-Taastrup        800       50676\n",
              "21        Horsholm       2970       25007\n",
              "22         Hvidovre      2650       53416\n",
              "23            Ishoj      2635       21675\n",
              "24       Kobenhavns      1001      602481\n",
              "25  Lyngby-Taarbaek      2800       56088\n",
              "26         Rodovre       2610       40652\n",
              "27        Rudersdal      3460       56133\n",
              "28          Tarnby       2770       43010\n",
              "29      Vallensbaek      2625       16098"
            ]
          },
          "metadata": {
            "tags": []
          },
          "execution_count": 35
        }
      ]
    },
    {
      "cell_type": "code",
      "metadata": {
        "id": "Z0YVUkzjoY6K",
        "colab": {
          "base_uri": "https://localhost:8080/",
          "height": 204
        },
        "outputId": "5178acef-e734-4516-f285-dc07c1be7b66"
      },
      "source": [
        "df_hovedstaden = df_hovedstaden.merge(df_crime_2011_2019, on='REGION', how= 'inner' )\n",
        "df_hovedstaden.head()\n"
      ],
      "execution_count": 36,
      "outputs": [
        {
          "output_type": "execute_result",
          "data": {
            "text/html": [
              "<div>\n",
              "<style scoped>\n",
              "    .dataframe tbody tr th:only-of-type {\n",
              "        vertical-align: middle;\n",
              "    }\n",
              "\n",
              "    .dataframe tbody tr th {\n",
              "        vertical-align: top;\n",
              "    }\n",
              "\n",
              "    .dataframe thead th {\n",
              "        text-align: right;\n",
              "    }\n",
              "</style>\n",
              "<table border=\"1\" class=\"dataframe\">\n",
              "  <thead>\n",
              "    <tr style=\"text-align: right;\">\n",
              "      <th></th>\n",
              "      <th>REGION</th>\n",
              "      <th>Postcode</th>\n",
              "      <th>Population</th>\n",
              "      <th>TYPE OF OFFENCE</th>\n",
              "      <th>2011</th>\n",
              "      <th>2012</th>\n",
              "      <th>2013</th>\n",
              "      <th>2014</th>\n",
              "      <th>2015</th>\n",
              "      <th>2016</th>\n",
              "      <th>2017</th>\n",
              "      <th>2018</th>\n",
              "      <th>2019</th>\n",
              "    </tr>\n",
              "  </thead>\n",
              "  <tbody>\n",
              "    <tr>\n",
              "      <th>0</th>\n",
              "      <td>Bornholm</td>\n",
              "      <td>3700</td>\n",
              "      <td>39570</td>\n",
              "      <td>Nature of the offence, total</td>\n",
              "      <td>1614.0</td>\n",
              "      <td>1783.0</td>\n",
              "      <td>2112.0</td>\n",
              "      <td>1860.0</td>\n",
              "      <td>1779.0</td>\n",
              "      <td>1718.0</td>\n",
              "      <td>1634.0</td>\n",
              "      <td>1559.0</td>\n",
              "      <td>1327.0</td>\n",
              "    </tr>\n",
              "    <tr>\n",
              "      <th>1</th>\n",
              "      <td>Bornholm</td>\n",
              "      <td>3700</td>\n",
              "      <td>39570</td>\n",
              "      <td>Penal Code, total</td>\n",
              "      <td>1178.0</td>\n",
              "      <td>1334.0</td>\n",
              "      <td>1415.0</td>\n",
              "      <td>1223.0</td>\n",
              "      <td>1165.0</td>\n",
              "      <td>1157.0</td>\n",
              "      <td>1092.0</td>\n",
              "      <td>920.0</td>\n",
              "      <td>706.0</td>\n",
              "    </tr>\n",
              "    <tr>\n",
              "      <th>2</th>\n",
              "      <td>Bornholm</td>\n",
              "      <td>3700</td>\n",
              "      <td>39570</td>\n",
              "      <td>Crimes of violence, total</td>\n",
              "      <td>120.0</td>\n",
              "      <td>128.0</td>\n",
              "      <td>149.0</td>\n",
              "      <td>170.0</td>\n",
              "      <td>142.0</td>\n",
              "      <td>153.0</td>\n",
              "      <td>162.0</td>\n",
              "      <td>157.0</td>\n",
              "      <td>121.0</td>\n",
              "    </tr>\n",
              "    <tr>\n",
              "      <th>3</th>\n",
              "      <td>Bornholm</td>\n",
              "      <td>3700</td>\n",
              "      <td>39570</td>\n",
              "      <td>Common assault</td>\n",
              "      <td>60.0</td>\n",
              "      <td>59.0</td>\n",
              "      <td>77.0</td>\n",
              "      <td>67.0</td>\n",
              "      <td>57.0</td>\n",
              "      <td>82.0</td>\n",
              "      <td>56.0</td>\n",
              "      <td>63.0</td>\n",
              "      <td>49.0</td>\n",
              "    </tr>\n",
              "    <tr>\n",
              "      <th>4</th>\n",
              "      <td>Bornholm</td>\n",
              "      <td>3700</td>\n",
              "      <td>39570</td>\n",
              "      <td>Threats</td>\n",
              "      <td>21.0</td>\n",
              "      <td>30.0</td>\n",
              "      <td>37.0</td>\n",
              "      <td>53.0</td>\n",
              "      <td>34.0</td>\n",
              "      <td>37.0</td>\n",
              "      <td>32.0</td>\n",
              "      <td>29.0</td>\n",
              "      <td>42.0</td>\n",
              "    </tr>\n",
              "  </tbody>\n",
              "</table>\n",
              "</div>"
            ],
            "text/plain": [
              "     REGION  Postcode  Population  ...    2017    2018    2019\n",
              "0  Bornholm      3700       39570  ...  1634.0  1559.0  1327.0\n",
              "1  Bornholm      3700       39570  ...  1092.0   920.0   706.0\n",
              "2  Bornholm      3700       39570  ...   162.0   157.0   121.0\n",
              "3  Bornholm      3700       39570  ...    56.0    63.0    49.0\n",
              "4  Bornholm      3700       39570  ...    32.0    29.0    42.0\n",
              "\n",
              "[5 rows x 13 columns]"
            ]
          },
          "metadata": {
            "tags": []
          },
          "execution_count": 36
        }
      ]
    },
    {
      "cell_type": "code",
      "metadata": {
        "colab": {
          "base_uri": "https://localhost:8080/"
        },
        "id": "1OzEY4ncG_qJ",
        "outputId": "5a35bc80-2815-4146-926b-7bc228741413"
      },
      "source": [
        "df_hovedstaden_plot = df_hovedstaden.groupby(['REGION'])['2019','2018','2017','2016'].sum().reset_index()\n",
        " "
      ],
      "execution_count": 37,
      "outputs": [
        {
          "output_type": "stream",
          "text": [
            "/usr/local/lib/python3.7/dist-packages/ipykernel_launcher.py:1: FutureWarning: Indexing with multiple keys (implicitly converted to a tuple of keys) will be deprecated, use a list instead.\n",
            "  \"\"\"Entry point for launching an IPython kernel.\n"
          ],
          "name": "stderr"
        }
      ]
    },
    {
      "cell_type": "code",
      "metadata": {
        "colab": {
          "base_uri": "https://localhost:8080/",
          "height": 204
        },
        "id": "FaREorJpIKdJ",
        "outputId": "351f4434-1223-406a-c43a-c5fc73ef03be"
      },
      "source": [
        "df_hovedstaden_plot.sort_values(['2019','2018','2017','2016'], ascending=False, inplace=True) \n",
        "df_hovedstaden_plot.head()"
      ],
      "execution_count": 40,
      "outputs": [
        {
          "output_type": "execute_result",
          "data": {
            "text/html": [
              "<div>\n",
              "<style scoped>\n",
              "    .dataframe tbody tr th:only-of-type {\n",
              "        vertical-align: middle;\n",
              "    }\n",
              "\n",
              "    .dataframe tbody tr th {\n",
              "        vertical-align: top;\n",
              "    }\n",
              "\n",
              "    .dataframe thead th {\n",
              "        text-align: right;\n",
              "    }\n",
              "</style>\n",
              "<table border=\"1\" class=\"dataframe\">\n",
              "  <thead>\n",
              "    <tr style=\"text-align: right;\">\n",
              "      <th></th>\n",
              "      <th>REGION</th>\n",
              "      <th>2019</th>\n",
              "      <th>2018</th>\n",
              "      <th>2017</th>\n",
              "      <th>2016</th>\n",
              "    </tr>\n",
              "  </thead>\n",
              "  <tbody>\n",
              "    <tr>\n",
              "      <th>3</th>\n",
              "      <td>Gentofte</td>\n",
              "      <td>15269.0</td>\n",
              "      <td>21762.0</td>\n",
              "      <td>23431.0</td>\n",
              "      <td>22504.0</td>\n",
              "    </tr>\n",
              "    <tr>\n",
              "      <th>4</th>\n",
              "      <td>Gladsaxe</td>\n",
              "      <td>11864.0</td>\n",
              "      <td>16940.0</td>\n",
              "      <td>17147.0</td>\n",
              "      <td>17989.0</td>\n",
              "    </tr>\n",
              "    <tr>\n",
              "      <th>6</th>\n",
              "      <td>Hvidovre</td>\n",
              "      <td>11333.0</td>\n",
              "      <td>16413.0</td>\n",
              "      <td>17663.0</td>\n",
              "      <td>16142.0</td>\n",
              "    </tr>\n",
              "    <tr>\n",
              "      <th>7</th>\n",
              "      <td>Rudersdal</td>\n",
              "      <td>9806.0</td>\n",
              "      <td>13592.0</td>\n",
              "      <td>14337.0</td>\n",
              "      <td>14094.0</td>\n",
              "    </tr>\n",
              "    <tr>\n",
              "      <th>2</th>\n",
              "      <td>Frederikssund</td>\n",
              "      <td>7339.0</td>\n",
              "      <td>9478.0</td>\n",
              "      <td>10229.0</td>\n",
              "      <td>10418.0</td>\n",
              "    </tr>\n",
              "  </tbody>\n",
              "</table>\n",
              "</div>"
            ],
            "text/plain": [
              "          REGION     2019     2018     2017     2016\n",
              "3       Gentofte  15269.0  21762.0  23431.0  22504.0\n",
              "4       Gladsaxe  11864.0  16940.0  17147.0  17989.0\n",
              "6       Hvidovre  11333.0  16413.0  17663.0  16142.0\n",
              "7      Rudersdal   9806.0  13592.0  14337.0  14094.0\n",
              "2  Frederikssund   7339.0   9478.0  10229.0  10418.0"
            ]
          },
          "metadata": {
            "tags": []
          },
          "execution_count": 40
        }
      ]
    },
    {
      "cell_type": "code",
      "metadata": {
        "colab": {
          "base_uri": "https://localhost:8080/",
          "height": 343
        },
        "id": "o0AZTkTmIjF4",
        "outputId": "96a162c0-ce72-4be5-8b1f-60c369257214"
      },
      "source": [
        "df_hovedstaden_plot.plot(x='REGION',y=['2019','2018','2017','2016'], figsize=(20, 5), kind='area')\n",
        "plt.ylabel('Total number of Offence')\n",
        "plt.xlabel('Region')\n",
        "plt.title('Offences in hovedstaden regions of Denmark through year 2019-2016')\n",
        "plt.show()"
      ],
      "execution_count": 39,
      "outputs": [
        {
          "output_type": "display_data",
          "data": {
            "image/png": "[encoded data removed]",
            "text/plain": [
              "<Figure size 1440x360 with 1 Axes>"
            ]
          },
          "metadata": {
            "tags": [],
            "needs_background": "light"
          }
        }
      ]
    },
    {
      "cell_type": "code",
      "metadata": {
        "colab": {
          "base_uri": "https://localhost:8080/",
          "height": 297
        },
        "id": "MoyfZ4QNIyVI",
        "outputId": "1715b08b-24ae-44b0-e934-db62cda31282"
      },
      "source": [
        "df_hovedstaden_count = df_hovedstaden.groupby(['REGION'])['TYPE OF OFFENCE'].count().reset_index()\n",
        "df_hovedstaden_count"
      ],
      "execution_count": 41,
      "outputs": [
        {
          "output_type": "execute_result",
          "data": {
            "text/html": [
              "<div>\n",
              "<style scoped>\n",
              "    .dataframe tbody tr th:only-of-type {\n",
              "        vertical-align: middle;\n",
              "    }\n",
              "\n",
              "    .dataframe tbody tr th {\n",
              "        vertical-align: top;\n",
              "    }\n",
              "\n",
              "    .dataframe thead th {\n",
              "        text-align: right;\n",
              "    }\n",
              "</style>\n",
              "<table border=\"1\" class=\"dataframe\">\n",
              "  <thead>\n",
              "    <tr style=\"text-align: right;\">\n",
              "      <th></th>\n",
              "      <th>REGION</th>\n",
              "      <th>TYPE OF OFFENCE</th>\n",
              "    </tr>\n",
              "  </thead>\n",
              "  <tbody>\n",
              "    <tr>\n",
              "      <th>0</th>\n",
              "      <td>Bornholm</td>\n",
              "      <td>22</td>\n",
              "    </tr>\n",
              "    <tr>\n",
              "      <th>1</th>\n",
              "      <td>Egedal</td>\n",
              "      <td>23</td>\n",
              "    </tr>\n",
              "    <tr>\n",
              "      <th>2</th>\n",
              "      <td>Frederikssund</td>\n",
              "      <td>27</td>\n",
              "    </tr>\n",
              "    <tr>\n",
              "      <th>3</th>\n",
              "      <td>Gentofte</td>\n",
              "      <td>27</td>\n",
              "    </tr>\n",
              "    <tr>\n",
              "      <th>4</th>\n",
              "      <td>Gladsaxe</td>\n",
              "      <td>25</td>\n",
              "    </tr>\n",
              "    <tr>\n",
              "      <th>5</th>\n",
              "      <td>Herlev</td>\n",
              "      <td>24</td>\n",
              "    </tr>\n",
              "    <tr>\n",
              "      <th>6</th>\n",
              "      <td>Hvidovre</td>\n",
              "      <td>27</td>\n",
              "    </tr>\n",
              "    <tr>\n",
              "      <th>7</th>\n",
              "      <td>Rudersdal</td>\n",
              "      <td>23</td>\n",
              "    </tr>\n",
              "  </tbody>\n",
              "</table>\n",
              "</div>"
            ],
            "text/plain": [
              "          REGION  TYPE OF OFFENCE\n",
              "0       Bornholm               22\n",
              "1         Egedal               23\n",
              "2  Frederikssund               27\n",
              "3       Gentofte               27\n",
              "4       Gladsaxe               25\n",
              "5         Herlev               24\n",
              "6       Hvidovre               27\n",
              "7      Rudersdal               23"
            ]
          },
          "metadata": {
            "tags": []
          },
          "execution_count": 41
        }
      ]
    },
    {
      "cell_type": "code",
      "metadata": {
        "colab": {
          "base_uri": "https://localhost:8080/",
          "height": 408
        },
        "id": "_kXceA7vJJTQ",
        "outputId": "8a549d7b-d320-469d-d455-219058f3c0f7"
      },
      "source": [
        "df_hovedstaden_count.plot(x ='REGION', y='TYPE OF OFFENCE', kind = 'bar',figsize=(20, 5))\n",
        "plt.ylabel('Total number of Offences')\n",
        "plt.xlabel('Kommune in Hovedstaden region')\n",
        "plt.title('Total number of Offence in different Kommunes in Region hovedstaden ')\n",
        "plt.show()"
      ],
      "execution_count": 42,
      "outputs": [
        {
          "output_type": "display_data",
          "data": {
            "image/png": "[encoded data removed]",
            "text/plain": [
              "<Figure size 1440x360 with 1 Axes>"
            ]
          },
          "metadata": {
            "tags": [],
            "needs_background": "light"
          }
        }
      ]
    },
    {
      "cell_type": "markdown",
      "metadata": {
        "id": "Na-dIgseJgsV"
      },
      "source": [
        "We can see that in Frederikssund, Gentofte and Hvidovre kommune, there is high number of offences reported. "
      ]
    },
    {
      "cell_type": "code",
      "metadata": {
        "id": "yApk9eG4JePB"
      },
      "source": [
        ""
      ],
      "execution_count": null,
      "outputs": []
    }
  ]
}